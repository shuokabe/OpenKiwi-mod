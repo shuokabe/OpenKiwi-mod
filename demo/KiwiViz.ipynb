{
 "cells": [
  {
   "cell_type": "code",
   "execution_count": 24,
   "metadata": {},
   "outputs": [],
   "source": [
    "from ipywidgets import interact, Textarea\n",
    "import nltk\n",
    "from colored import fg\n",
    "\n",
    "import kiwi\n",
    "from kiwi import constants as const"
   ]
  },
  {
   "cell_type": "code",
   "execution_count": 25,
   "metadata": {},
   "outputs": [],
   "source": [
    "model_file = 'en_de.torch'\n",
    "model = kiwi.load_model(model_file)\n",
    "\n"
   ]
  },
  {
   "cell_type": "code",
   "execution_count": 27,
   "metadata": {},
   "outputs": [
    {
     "name": "stderr",
     "output_type": "stream",
     "text": [
      "[nltk_data] Downloading package punkt to /home/sony/nltk_data...\n",
      "[nltk_data]   Package punkt is already up-to-date!\n"
     ]
    }
   ],
   "source": [
    "from IPython.display import Markdown, display\n",
    "nltk.download('punkt')\n",
    "\n",
    "def printmd(text):\n",
    "    display(Markdown(text))\n",
    "    \n",
    "def make_color(text, color):\n",
    "    start = \"<span style='color:\" + color + \"'>\"\n",
    "    return start + text + \"</span>\"\n",
    "\n",
    "\n",
    "def get_color(bad_prob):\n",
    "    return 'green' if bad_prob < THRESHOLD else 'red'\n",
    "\n"
   ]
  },
  {
   "cell_type": "code",
   "execution_count": 37,
   "metadata": {},
   "outputs": [],
   "source": [
    "\n",
    "\n",
    "def highlight(text_bad_prob):\n",
    "    text, bad_prob = text_bad_prob\n",
    "    if bad_prob >= THRESHOLD:\n",
    "        text = '*' + text + '*'\n",
    "    return make_color(text, get_color(bad_prob))\n",
    "\n",
    "\n",
    "def KiwiViz(source, mt):\n",
    "    source = ' '.join(nltk.word_tokenize(source))\n",
    "    mt = ' '.join(nltk.word_tokenize(mt))\n",
    "    model_out = model.predict({const.SOURCE: [source.lower()], const.TARGET: [mt.lower()]})\n",
    "    bad_probs = model_out[const.TARGET_TAGS][0]\n",
    "    gap_probs = model_out[const.GAP_TAGS][0]\n",
    "    highlight_words = list(map(highlight, zip(mt.split(), bad_probs)))\n",
    "    visualization = ''\n",
    "    BAD_GAP = make_color('_', 'red')\n",
    "    for gap_prob, word in zip(gap_probs[:-1], highlight_words):\n",
    "        visualization += ' ' if gap_prob < THRESHOLD else BAD_GAP + ' '\n",
    "        visualization += word\n",
    "    visualization += '' if gap_probs[-1] < THRESHOLD else ' ' + BAD_GAP\n",
    "    print('HTER: {}'.format(model_out[const.SENTENCE_SCORES][0]))\n",
    "    printmd(visualization)"
   ]
  },
  {
   "cell_type": "code",
   "execution_count": 38,
   "metadata": {},
   "outputs": [],
   "source": [
    "#SOURCE = Textarea(value='stops validating after detecting 250 errors.')\n",
    "#MT = Textarea(value='validieren nach Entdeckung 250 Fehler stoppt.')\n",
    "SOURCE = Textarea(value='the Sharpen tool sharpens areas in an image.')\n",
    "MT = Textarea(value='der Schärfen-Werkezug Bereiche in einem Bild schärfer erscheint.')"
   ]
  },
  {
   "cell_type": "code",
   "execution_count": 39,
   "metadata": {},
   "outputs": [
    {
     "data": {
      "application/vnd.jupyter.widget-view+json": {
       "model_id": "401470b4122b43fab5c4ef8fb47c68f0",
       "version_major": 2,
       "version_minor": 0
      },
      "text/plain": [
       "interactive(children=(Textarea(value='the Sharpen tool sharpens areas in an image.', description='source'), Te…"
      ]
     },
     "metadata": {},
     "output_type": "display_data"
    }
   ],
   "source": [
    "_interact = interact(KiwiViz, source=SOURCE, mt=MT)"
   ]
  },
  {
   "cell_type": "code",
   "execution_count": null,
   "metadata": {},
   "outputs": [],
   "source": []
  }
 ],
 "metadata": {
  "kernelspec": {
   "display_name": "openkiwi",
   "language": "python",
   "name": "openkiwi"
  },
  "language_info": {
   "codemirror_mode": {
    "name": "ipython",
    "version": 3
   },
   "file_extension": ".py",
   "mimetype": "text/x-python",
   "name": "python",
   "nbconvert_exporter": "python",
   "pygments_lexer": "ipython3",
   "version": "3.6.7"
  }
 },
 "nbformat": 4,
 "nbformat_minor": 2
}
